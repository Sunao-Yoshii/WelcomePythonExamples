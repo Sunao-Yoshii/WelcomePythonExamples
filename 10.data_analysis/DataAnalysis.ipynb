{
 "cells": [
  {
   "cell_type": "markdown",
   "metadata": {},
   "source": [
    "# データ分析\n",
    "\n",
    "for Python 3.7.+\n",
    "\n",
    "## Pandas\n",
    "\n",
    "Python でデータ分析を始めると真っ先に使われてるのが `pandas` というライブラリ。 \n",
    "\n",
    "このライブラリは matrix 状のデータ操作をかなり容易に行うものです。  \n",
    "CSV/Excel などのデータから二次元配列でデータを読み取る、歯抜けの状態をざっくり確認し、欠損値の補正や列単位でのデータ変換を行うといった操作ができます。\n",
    "\n",
    "import と、データセットの読み込みをしてみます。  \n",
    "有名どころで、Iris (アヤメ)データセットを用意しました。`iris.csv`"
   ]
  },
  {
   "cell_type": "code",
   "execution_count": null,
   "metadata": {},
   "outputs": [],
   "source": [
    "import pandas as pd\n",
    "import numpy as np\n",
    "\n",
    "datasets = pd.read_csv('./iris.csv')"
   ]
  },
  {
   "cell_type": "markdown",
   "metadata": {},
   "source": [
    "`iris.csv` は中を見ていただくとわかりますが、以下のようなデータになっています。\n",
    "\n",
    "```csv\n",
    "sepal_length,sepal_width,petal_lebgth,petal_width,class\n",
    "5.1,3.5,1.4,0.2,Iris-setosa\n",
    "4.9,3.0,1.4,0.2,Iris-setosa\n",
    "4.7,3.2,1.3,0.2,Iris-setosa\n",
    "4.6,3.1,1.5,0.2,Iris-setosa\n",
    "5.0,3.6,1.4,0.2,Iris-setosa\n",
    "...\n",
    "```\n",
    "\n",
    "英語だとわかりづらいかもですが、以下のような意味です。\n",
    "\n",
    "* sepal: がく\n",
    "* petal: 花弁\n",
    "\n",
    "アヤメの種類は、ガクと花弁の大きさで分類できる（と言うことらしい）ので、機械学習で良く扱われるデータの一つとなっています。\n",
    "\n",
    "`head` で先頭部分を取り出してみましょう。"
   ]
  },
  {
   "cell_type": "code",
   "execution_count": null,
   "metadata": {},
   "outputs": [],
   "source": [
    "datasets.head()"
   ]
  },
  {
   "cell_type": "markdown",
   "metadata": {},
   "source": [
    "大分いい感じに取得できると思います。  \n",
    "データを加工する前に、全体の情報をざっくり眺めます。\n",
    "\n",
    "`info` を使えばどう言ったデータがあるのか、欠損値がどれ位あるかが見えます。"
   ]
  },
  {
   "cell_type": "code",
   "execution_count": null,
   "metadata": {},
   "outputs": [],
   "source": [
    "datasets.info()"
   ]
  },
  {
   "cell_type": "markdown",
   "metadata": {},
   "source": [
    "指定した列だけ取得"
   ]
  },
  {
   "cell_type": "code",
   "execution_count": null,
   "metadata": {},
   "outputs": [],
   "source": [
    "datasets['sepal_width']"
   ]
  },
  {
   "cell_type": "markdown",
   "metadata": {},
   "source": [
    "## データ操作\n",
    "\n",
    "当然データを加工する必要があれば行うべきでしょう。  \n",
    "ということで\n",
    "\n",
    "### 転地\n",
    "\n",
    "行列と見立てた操作ですね。"
   ]
  },
  {
   "cell_type": "code",
   "execution_count": null,
   "metadata": {},
   "outputs": [],
   "source": [
    "datasets.T"
   ]
  },
  {
   "cell_type": "markdown",
   "metadata": {},
   "source": [
    "### 列抽出\n",
    "\n",
    "利用する行だけ抽出することもできます。"
   ]
  },
  {
   "cell_type": "code",
   "execution_count": null,
   "metadata": {},
   "outputs": [],
   "source": [
    "datasets[['sepal_length', 'sepal_width']]"
   ]
  },
  {
   "cell_type": "markdown",
   "metadata": {},
   "source": [
    "### 条件抽出\n",
    "\n",
    "指定した条件でデータを取り出すことができます。"
   ]
  },
  {
   "cell_type": "code",
   "execution_count": null,
   "metadata": {},
   "outputs": [],
   "source": [
    "datasets[datasets['class'] == 'Iris-setosa']"
   ]
  },
  {
   "cell_type": "markdown",
   "metadata": {},
   "source": [
    "### 新しい列に計算した値を設定\n",
    "\n",
    "スケールが異なる場合は比率を扱うデータ行を作りたいところですよね。"
   ]
  },
  {
   "cell_type": "code",
   "execution_count": null,
   "metadata": {},
   "outputs": [],
   "source": [
    "datasets['sepal_rate'] = datasets['sepal_length'] / datasets['sepal_width']\n",
    "datasets"
   ]
  },
  {
   "cell_type": "markdown",
   "metadata": {},
   "source": [
    "### 余計な行の削除\n",
    "\n",
    "これは AI を作るときに、ノイズ的な行を残すと余計な学習をする場合があるので削除も時折します。  \n",
    "作ったものを削除してみます"
   ]
  },
  {
   "cell_type": "code",
   "execution_count": null,
   "metadata": {},
   "outputs": [],
   "source": [
    "datasets = datasets.drop(['sepal_rate'], axis=1)\n",
    "datasets"
   ]
  },
  {
   "cell_type": "markdown",
   "metadata": {},
   "source": [
    "### 平均/中央/再頻出値\n",
    "\n",
    "ということで"
   ]
  },
  {
   "cell_type": "code",
   "execution_count": null,
   "metadata": {},
   "outputs": [],
   "source": [
    "print('平均  : ', datasets['sepal_length'].mean())\n",
    "print('中央  : ', datasets['sepal_length'].median())\n",
    "print('再頻出:', datasets['sepal_length'].mode())"
   ]
  },
  {
   "cell_type": "markdown",
   "metadata": {},
   "source": [
    "### 各種集計\n",
    "\n",
    "分散と標準偏差も出してみます。"
   ]
  },
  {
   "cell_type": "code",
   "execution_count": null,
   "metadata": {},
   "outputs": [],
   "source": [
    "print('分散: ', datasets['sepal_length'].var())\n",
    "print('標準偏差: ', datasets['sepal_length'].std())\n"
   ]
  },
  {
   "cell_type": "markdown",
   "metadata": {},
   "source": [
    "パーセンタイル値も取得できます。"
   ]
  },
  {
   "cell_type": "code",
   "execution_count": null,
   "metadata": {},
   "outputs": [],
   "source": [
    "datasets['sepal_length'].describe()"
   ]
  },
  {
   "cell_type": "markdown",
   "metadata": {},
   "source": [
    "## データの可視化(matplotlib)\n",
    "\n",
    "データ解析らしくなってきました。  \n",
    "データをグラフにすることで解釈しやすい様にします。\n",
    "\n",
    "`student-mat.csv` ファイルをサンプルに置いたので、それを読んでみましょう。  \n",
    "ちなみにデータ自体は http://archive.ics.uci.edu/ml/machine-learning-databases/ ここからDLできます。\n",
    "\n",
    "単純に情報を読み取ってみます。  \n",
    "データはどこぞの大学の学生と数学の成績です。\n",
    "\n",
    "G1,G2,G3 は各期の成績ですね。"
   ]
  },
  {
   "cell_type": "code",
   "execution_count": null,
   "metadata": {},
   "outputs": [],
   "source": [
    "student_math = pd.read_csv('./student-mat.csv')\n",
    "student_math.info()"
   ]
  },
  {
   "cell_type": "markdown",
   "metadata": {},
   "source": [
    "Matplotlib を取り込んでグラフ表示の準備をする。"
   ]
  },
  {
   "cell_type": "code",
   "execution_count": null,
   "metadata": {},
   "outputs": [],
   "source": [
    "import matplotlib as mpl\n",
    "import seaborn as sns\n",
    "\n",
    "import matplotlib.pyplot as plt\n",
    "\n",
    "%matplotlib inline"
   ]
  },
  {
   "cell_type": "markdown",
   "metadata": {},
   "source": [
    "### ヒストグラム\n",
    "\n",
    "単純にヒストグラムを表示する。"
   ]
  },
  {
   "cell_type": "code",
   "execution_count": null,
   "metadata": {},
   "outputs": [],
   "source": [
    "plt.hist(student_math['absences'])\n",
    "plt.xlabel('absense')\n",
    "plt.ylabel('count')\n",
    "\n",
    "plt.grid(True)"
   ]
  },
  {
   "cell_type": "markdown",
   "metadata": {},
   "source": [
    "### 箱ひげ図\n",
    "\n",
    "* 最大値\n",
    "* 75% 値 (第３四分位点)\n",
    "* 中央値(赤線)\n",
    "* 20% 値 (第1四分位点)\n",
    "* 最小値\n",
    "\n",
    "という見方をする図です。"
   ]
  },
  {
   "cell_type": "code",
   "execution_count": null,
   "metadata": {},
   "outputs": [],
   "source": [
    "plt.boxplot(student_math['G1'])\n",
    "plt.grid(True)"
   ]
  },
  {
   "cell_type": "code",
   "execution_count": null,
   "metadata": {},
   "outputs": [],
   "source": [
    "plt.boxplot([\n",
    "    student_math['G1'],\n",
    "    student_math['G2'],\n",
    "    student_math['G3']\n",
    "])\n",
    "plt.grid(True)"
   ]
  },
  {
   "cell_type": "markdown",
   "metadata": {},
   "source": [
    "### 散布図\n",
    "\n",
    "見たまま分布がわかりますね。  \n"
   ]
  },
  {
   "cell_type": "code",
   "execution_count": null,
   "metadata": {},
   "outputs": [],
   "source": [
    "plt.plot(student_math['G1'], student_math['G3'], 'o')\n",
    "plt.ylabel('G3 grade')\n",
    "plt.xlabel('G1 grade')\n",
    "plt.grid(True)"
   ]
  },
  {
   "cell_type": "markdown",
   "metadata": {},
   "source": [
    "### 色々な図をまとめて\n",
    "\n",
    "各行との相関をみる為のマトリクス状にグラフ化します。"
   ]
  },
  {
   "cell_type": "code",
   "execution_count": null,
   "metadata": {},
   "outputs": [],
   "source": [
    "sns.pairplot(student_math[['Dalc', 'Walc', 'G1', 'G3']])\n",
    "plt.grid(True)"
   ]
  },
  {
   "cell_type": "code",
   "execution_count": null,
   "metadata": {},
   "outputs": [],
   "source": []
  }
 ],
 "metadata": {
  "kernelspec": {
   "display_name": "Python 3",
   "language": "python",
   "name": "python3"
  },
  "language_info": {
   "codemirror_mode": {
    "name": "ipython",
    "version": 3
   },
   "file_extension": ".py",
   "mimetype": "text/x-python",
   "name": "python",
   "nbconvert_exporter": "python",
   "pygments_lexer": "ipython3",
   "version": "3.7.4"
  }
 },
 "nbformat": 4,
 "nbformat_minor": 2
}
