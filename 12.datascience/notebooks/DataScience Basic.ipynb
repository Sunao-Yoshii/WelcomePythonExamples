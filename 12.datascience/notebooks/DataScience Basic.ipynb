{
 "cells": [
  {
   "cell_type": "markdown",
   "metadata": {},
   "source": [
    "# データサイエンス基礎(with Titanic)\n",
    "\n",
    "この問題は Kaggle https://www.kaggle.com/ のチュートリアル課題で、データサイエンスの手順を学習するためのサンプルでもあります。  \n",
    "ここではそのデータを例に、実際のデータサイエンスの手順を学習してみます。\n",
    "\n",
    "課題の Titanic は学習データと問題データが用意されており、学習データにだけ 「生存有無」 のフラグがあります。  \n",
    "ここから機械学習による判定機か、判定のためのモデルを作成し、問題データ内の生死不明乗客が生き残ったかどうかを判定します。\n",
    "\n",
    "データサイエンスの基礎の流れは以下の流れのようです。\n",
    "\n",
    "1. データの概要確認\n",
    "2. 各データの内容を確認\n",
    "3. データ変換/データ補正/削除など\n",
    "4. 学習モデルの作成\n",
    "5. 判定データの作成\n",
    "\n",
    "これらの流れを実際に行ってみます。\n",
    "\n",
    "### 利用するライブラリの読み込み"
   ]
  },
  {
   "cell_type": "code",
   "execution_count": null,
   "metadata": {},
   "outputs": [],
   "source": [
    "# データ解析や加工\n",
    "import pandas as pd\n",
    "import numpy as np\n",
    "import random as rnd\n",
    "\n",
    "# 可視化ツール\n",
    "import seaborn as sns\n",
    "import matplotlib.pyplot as plt\n",
    "%matplotlib inline"
   ]
  },
  {
   "cell_type": "markdown",
   "metadata": {},
   "source": [
    "## データの読み取り\n",
    "\n",
    "まずは読み込まなければ始まりません。  \n",
    "学習に使うモデルは `12.datascience/input/train.csv` で、問題ファイルは `12.datascience/input/test.csv` として用意されています。\n",
    "\n",
    "まずはこれを読み込みましょう。"
   ]
  },
  {
   "cell_type": "code",
   "execution_count": null,
   "metadata": {},
   "outputs": [],
   "source": [
    "train_df = pd.read_csv('../input/train.csv')\n",
    "test_df = pd.read_csv('../input/test.csv')\n",
    "\n",
    "train_df.head()"
   ]
  },
  {
   "cell_type": "markdown",
   "metadata": {},
   "source": [
    "各データの意味ですが\n",
    "\n",
    "* PassengerId : 乗客ID\n",
    "* Survived : 生き残ったかどうか\n",
    "* Pclass : 部屋の等級\n",
    "* Name : 氏名\n",
    "* Sex : 性別\n",
    "* Age : 年齢\n",
    "* SibSp : タイタニックに同乗している兄弟/配偶者の数\n",
    "* Parch : タイタニックに同乗している親/子供の数\n",
    "* Ticket : チケット番号\n",
    "* Fare : 料金\n",
    "* Cabin : 客室番号\n",
    "* Embarked : 乗った港\n",
    "\n",
    "ということだそうです。  \n",
    "どんなデータかわかったところで、データの状況を確認してみます。\n",
    "\n",
    "## 各データの内容を確認"
   ]
  },
  {
   "cell_type": "code",
   "execution_count": null,
   "metadata": {},
   "outputs": [],
   "source": [
    "train_df.info()"
   ]
  },
  {
   "cell_type": "code",
   "execution_count": null,
   "metadata": {},
   "outputs": [],
   "source": [
    "test_df.info()"
   ]
  },
  {
   "cell_type": "code",
   "execution_count": null,
   "metadata": {},
   "outputs": [],
   "source": [
    "train_df.isnull().sum()"
   ]
  },
  {
   "cell_type": "code",
   "execution_count": null,
   "metadata": {},
   "outputs": [],
   "source": [
    "test_df.isnull().sum()"
   ]
  },
  {
   "cell_type": "markdown",
   "metadata": {},
   "source": [
    "まずこの時点で Cabin の欠損量は冗談ではありません。  \n",
    "これを補正なんて諦めた方がいいかも知れないので、潔く諦めてしまいましょう。\n",
    "\n",
    "データの欠損がみられるのは Age / Fare / Cabin / Embarked だけですね。\n",
    "\n",
    "次に考えるのは、これらを補正する価値があるのかどうかです。\n",
    "\n",
    "### 年齢はどうだろうか？\n",
    "\n",
    "年齢と生存率に何らかの有意性があるならば、補正する価値はありそうです。  \n",
    "ということで、グラフを作成してみます。"
   ]
  },
  {
   "cell_type": "code",
   "execution_count": null,
   "metadata": {
    "scrolled": true
   },
   "outputs": [],
   "source": [
    "g = sns.FacetGrid(train_df, col='Survived')\n",
    "g.map(plt.hist, 'Age', bins=20)"
   ]
  },
  {
   "cell_type": "markdown",
   "metadata": {},
   "source": [
    "死亡した帯域と、生存した帯域で、20 台近辺はどちらも伸びてるので、単純に年齢層がそこに偏ってるだけだと考えられます。  \n",
    "ただ、若年層の生存率は有意に高いですね。\n",
    "\n",
    "これは補正してでも利用する価値はありそうです。\n",
    "\n",
    "### Fare(料金)"
   ]
  },
  {
   "cell_type": "code",
   "execution_count": null,
   "metadata": {},
   "outputs": [],
   "source": [
    "g = sns.FacetGrid(train_df, col='Survived')\n",
    "g.map(plt.hist, 'Fare', bins=20)"
   ]
  },
  {
   "cell_type": "markdown",
   "metadata": {},
   "source": [
    "形に有意性があるようには見えませんね。  \n",
    "ですが生存率は価格の高い方が高そうか？"
   ]
  },
  {
   "cell_type": "code",
   "execution_count": null,
   "metadata": {},
   "outputs": [],
   "source": [
    "temp_df = train_df[train_df['Fare'] < 20]\n",
    "temp_df['Fare'] = temp_df['Fare'].apply(lambda x: 0 if x < 10 else 1)\n",
    "temp_df.groupby(['Fare'], as_index=False).mean().sort_values(by='Survived', ascending=False)"
   ]
  },
  {
   "cell_type": "markdown",
   "metadata": {},
   "source": [
    "Fare を 金額 20 以下に絞り、 10 以下と10より高いエリアで区切って生存率を出してみると、４倍違います。  \n",
    "Fare は生存率に関連するようです。\n",
    "\n",
    "そうなれば、補正方法も考えてみます。  \n",
    "金額的には、部屋のグレードと、乗った場所（航行距離）に影響を受けるはず。"
   ]
  },
  {
   "cell_type": "code",
   "execution_count": null,
   "metadata": {
    "scrolled": false
   },
   "outputs": [],
   "source": [
    "temp_df = train_df.copy()\n",
    "\n",
    "def emverked_to_num(em):\n",
    "    if em == 'S':\n",
    "        return 0\n",
    "    elif em == 'C':\n",
    "        return 1\n",
    "    elif em == 'Q':\n",
    "        return 2\n",
    "    else:\n",
    "        return 1\n",
    "\n",
    "temp_df['Embarked'] = temp_df['Embarked'].apply(emverked_to_num)\n",
    "temp_df['Sex'] = temp_df['Sex'].map({ 'male':1, 'female':0 })\n",
    "\n",
    "filtered_df = temp_df[temp_df['Pclass'] == 1]\n",
    "plt.plot(filtered_df['Embarked'], filtered_df['Fare'], 'o')\n",
    "plt.grid(True)"
   ]
  },
  {
   "cell_type": "code",
   "execution_count": null,
   "metadata": {},
   "outputs": [],
   "source": [
    "filtered_df = temp_df[temp_df['Pclass'] == 2]\n",
    "plt.plot(filtered_df['Embarked'], filtered_df['Fare'], 'o')\n",
    "plt.grid(True)"
   ]
  },
  {
   "cell_type": "code",
   "execution_count": null,
   "metadata": {},
   "outputs": [],
   "source": [
    "filtered_df = temp_df[temp_df['Pclass'] == 3]\n",
    "plt.plot(filtered_df['Embarked'], filtered_df['Fare'], 'o')\n",
    "plt.grid(True)"
   ]
  },
  {
   "cell_type": "markdown",
   "metadata": {},
   "source": [
    "察するに距離によって最低金額は変わるらしい。  \n",
    "等級は？"
   ]
  },
  {
   "cell_type": "code",
   "execution_count": null,
   "metadata": {},
   "outputs": [],
   "source": [
    "filtered_df = temp_df[temp_df['Embarked'] == 0]\n",
    "plt.plot(filtered_df['Pclass'], filtered_df['Fare'], 'o')\n",
    "plt.grid(True)"
   ]
  },
  {
   "cell_type": "code",
   "execution_count": null,
   "metadata": {},
   "outputs": [],
   "source": [
    "filtered_df = temp_df[temp_df['Embarked'] == 1]\n",
    "plt.plot(filtered_df['Pclass'], filtered_df['Fare'], 'o')\n",
    "plt.grid(True)"
   ]
  },
  {
   "cell_type": "markdown",
   "metadata": {},
   "source": [
    "1等級とか値段が青天井か…  \n",
    "ともあれ、相関性はありそう。"
   ]
  },
  {
   "cell_type": "code",
   "execution_count": null,
   "metadata": {},
   "outputs": [],
   "source": [
    "filtered_df = temp_df[temp_df['Pclass'] == 1][temp_df['Embarked'] == 0]\n",
    "plt.plot(filtered_df['Age'], filtered_df['Fare'], 'o')\n",
    "plt.grid(True)"
   ]
  },
  {
   "cell_type": "markdown",
   "metadata": {},
   "source": [
    "年齢ば参考にならなそうですね…  \n",
    "ともあれ、補完方針は、同じ等級、同じ港の平均値としておきましょう。\n",
    "\n",
    "### Cabin(客室番号)"
   ]
  },
  {
   "cell_type": "code",
   "execution_count": null,
   "metadata": {},
   "outputs": [],
   "source": [
    "train_df['Cabin'].head(10)"
   ]
  },
  {
   "cell_type": "markdown",
   "metadata": {},
   "source": [
    "…グラフにしなかったんじゃないです、できなかったんです。  \n",
    "だって…ねぇ？えーって感じですよ。\n",
    "\n",
    "グラフにせよ機械学習にせよ、単純なモデルで扱うには数字である必要があります。  \n",
    "これ、どうしようもなくない？（汗\n",
    "\n",
    "ということで、使いません（汗\n",
    "\n",
    "### Embarked(乗船場所)"
   ]
  },
  {
   "cell_type": "code",
   "execution_count": null,
   "metadata": {},
   "outputs": [],
   "source": [
    "train_df['Embarked'].describe()"
   ]
  },
  {
   "cell_type": "markdown",
   "metadata": {},
   "source": [
    "UNIQUE 3 ということは、３種類の値しか存在していないということ。  \n",
    "であるならば、数字に置き換えることができます。"
   ]
  },
  {
   "cell_type": "code",
   "execution_count": null,
   "metadata": {},
   "outputs": [],
   "source": [
    "train_df['Embarked'].head(10)"
   ]
  },
  {
   "cell_type": "code",
   "execution_count": null,
   "metadata": {},
   "outputs": [],
   "source": [
    "# S/C/Q しかないなら\n",
    "def emverked_to_num(em):\n",
    "    if em == 'S':\n",
    "        return 0\n",
    "    elif em == 'C':\n",
    "        return 1\n",
    "    elif em == 'Q':\n",
    "        return 2\n",
    "    else:\n",
    "        return 3  # null のものが該当\n",
    "\n",
    "temp_df = train_df.copy()\n",
    "temp_df['EmbarkedNm'] = temp_df['Embarked'].apply(emverked_to_num)\n",
    "\n",
    "g = sns.FacetGrid(temp_df, col='Survived')\n",
    "g.map(plt.hist, 'EmbarkedNm')"
   ]
  },
  {
   "cell_type": "markdown",
   "metadata": {},
   "source": [
    "これは傾向が別れましたね。  \n",
    "乗船場所が 1:C, 2:Q の生存比率は、0:S の物より高そうです。\n",
    "\n",
    "null のものを 3 として分離しましたが、運良く生存したものがわずかにいたようですね。  \n",
    "であれば、無記名のものは 1:C と仮定して話を進めるのが良さそうです。\n",
    "\n",
    "今度は欠損値を考えなくて良いデータも見てみましょう。\n",
    "\n",
    "### PassengerId : 乗客ID\n",
    "\n",
    "といってもさぁこれ"
   ]
  },
  {
   "cell_type": "code",
   "execution_count": null,
   "metadata": {},
   "outputs": [],
   "source": [
    "train_df['PassengerId'].head()"
   ]
  },
  {
   "cell_type": "markdown",
   "metadata": {},
   "source": [
    "ただの連番じゃん…こんなの生存に関わるかよ（＝＝；  \n",
    "関わったとしても使い道が思い浮かばない…\n",
    "\n",
    "### Pclass : 部屋の等級"
   ]
  },
  {
   "cell_type": "code",
   "execution_count": null,
   "metadata": {},
   "outputs": [],
   "source": [
    "train_df['Pclass'].head()"
   ]
  },
  {
   "cell_type": "markdown",
   "metadata": {},
   "source": [
    "数字ならそのまま使える。"
   ]
  },
  {
   "cell_type": "code",
   "execution_count": null,
   "metadata": {},
   "outputs": [],
   "source": [
    "g = sns.FacetGrid(train_df, col='Survived')\n",
    "g.map(plt.hist, 'Pclass')"
   ]
  },
  {
   "cell_type": "markdown",
   "metadata": {},
   "source": [
    "有意差がありますね。\n",
    "\n",
    "\n",
    "### Name : 氏名\n",
    "\n",
    "Name ... はどう使っていいか迷いますね。  "
   ]
  },
  {
   "cell_type": "code",
   "execution_count": null,
   "metadata": {},
   "outputs": [],
   "source": [
    "train_df['Name'].head()"
   ]
  },
  {
   "cell_type": "markdown",
   "metadata": {},
   "source": [
    "定式化などはできませんが、手動でデータ補正をするとき、家族の推察には利用できそうですね。  \n",
    "今回は諦めて捨ててしまいます。\n",
    "\n",
    "### Sex : 性別"
   ]
  },
  {
   "cell_type": "code",
   "execution_count": null,
   "metadata": {},
   "outputs": [],
   "source": [
    "train_df[[\"Sex\", \"Survived\"]]\\\n",
    "    .groupby(['Sex'], as_index=False)\\\n",
    "    .mean()\\\n",
    "    .sort_values(by='Survived', ascending=False)"
   ]
  },
  {
   "cell_type": "markdown",
   "metadata": {},
   "source": [
    "有意さとかそういうレベルではないです。  \n",
    "グラフ作るまでもなくこの差…\n",
    "\n",
    "### SibSp : タイタニックに同乗している兄弟/配偶者の数"
   ]
  },
  {
   "cell_type": "code",
   "execution_count": null,
   "metadata": {},
   "outputs": [],
   "source": [
    "train_df[[\"SibSp\", \"Survived\"]]\\\n",
    "    .groupby(['SibSp'], as_index=False)\\\n",
    "    .mean()\\\n",
    "    .sort_values(by='Survived', ascending=False)"
   ]
  },
  {
   "cell_type": "markdown",
   "metadata": {},
   "source": [
    "これもグラフにするまでもなく有意差が出ますね。\n",
    "\n",
    "### Parch : タイタニックに同乗している親/子供の数\n",
    "\n",
    "* Ticket : チケット番号\n",
    "* Cabin : 客室番号\n",
    "* Embarked : 乗った港"
   ]
  },
  {
   "cell_type": "code",
   "execution_count": null,
   "metadata": {
    "scrolled": true
   },
   "outputs": [],
   "source": [
    "train_df[[\"Parch\", \"Survived\"]]\\\n",
    "    .groupby(['Parch'], as_index=False)\\\n",
    "    .mean()\\\n",
    "    .sort_values(by='Survived', ascending=False)"
   ]
  },
  {
   "cell_type": "markdown",
   "metadata": {},
   "source": [
    "これも差が出ますね…親が我が子を庇うとかそういう話でしょうか…。  \n",
    "親の身は有限だからか、兄弟の数が増えると生存率が下がっていきます。\n",
    "\n",
    "### Ticket : チケット番号\n",
    "\n",
    "これも扱いに困りますね"
   ]
  },
  {
   "cell_type": "code",
   "execution_count": null,
   "metadata": {},
   "outputs": [],
   "source": [
    "train_df['Ticket'].head()"
   ]
  },
  {
   "cell_type": "markdown",
   "metadata": {},
   "source": [
    "あーうん、無理！  \n",
    "これ扱うの無理だわ！\n",
    "\n",
    "という事で捨て捨て！\n",
    "\n",
    "## データ変換/データ補正/削除など\n",
    "\n",
    "さて、前述の結果から、消す物残す物、利用する物を順次決めていきます。  \n",
    "まず、消すといった物を消していきましょう。\n",
    "\n",
    "対象は\n",
    "\n",
    "* PassengerId : 乗客ID\n",
    "* Name : 氏名\n",
    "* Ticket : チケット番号\n",
    "* Cabin : 客室番号\n",
    "\n",
    "あとは途中で作ってしまった `EmbarkedNm` も削除しておきましょうか。"
   ]
  },
  {
   "cell_type": "code",
   "execution_count": null,
   "metadata": {},
   "outputs": [],
   "source": [
    "train_df = train_df.drop(['PassengerId', 'Name', 'Ticket', 'Cabin'], axis=1)\n",
    "# PassengerId は回答用インデックスなので、削除しない\n",
    "test_df = test_df.drop(['Name', 'Ticket', 'Cabin'], axis=1)\n",
    "\n",
    "train_df.head()"
   ]
  },
  {
   "cell_type": "markdown",
   "metadata": {},
   "source": [
    "次に欠損値の補完を行いましょう。\n",
    "\n",
    "最初の対象は Fare 値です。  \n",
    "先ほど記述したように、同じ等級/港の平均値とします。"
   ]
  },
  {
   "cell_type": "code",
   "execution_count": null,
   "metadata": {},
   "outputs": [],
   "source": [
    "# Pclass と Embarked でグループ化、Fare の平均値を計算、\n",
    "# 計算結果を fillna で空欄に挿入します。\n",
    "test_df['Fare'] = test_df.groupby(['Pclass', 'Embarked'])['Fare']\\\n",
    "        .apply(lambda d: d.fillna(d.mean()))\n",
    "test_df.info()"
   ]
  },
  {
   "cell_type": "code",
   "execution_count": null,
   "metadata": {},
   "outputs": [],
   "source": [
    "# 連続値はアルゴリズムによっては扱いづらいので、10 ごとの整数値に直してしまいます。\n",
    "train_df['Fare'] = train_df['Fare'].apply(lambda v: int(v / 10))\n",
    "test_df['Fare'] = test_df['Fare'].apply(lambda v: int(v / 10))\n",
    "test_df.head()"
   ]
  },
  {
   "cell_type": "markdown",
   "metadata": {},
   "source": [
    "次の対象は「Age(年齢)」です。\n",
    "\n",
    "方針としては3つ方策があります。\n",
    "\n",
    "1. データを徹底的に眺めて、正しそうな値をマニュアルで補完する\n",
    "2. とりあえず平均値の様な値で埋めてしまう\n",
    "3. 欠損値を欠損を示す値に設定して処理を進めてしまう\n",
    "\n",
    "ただし、３ の方法は、データの属性がラベル的な物である事が前提となります。  \n",
    "はて、これは少しいい方向にながれそうです。"
   ]
  },
  {
   "cell_type": "markdown",
   "metadata": {},
   "source": [
    "### データのクラス化\n",
    "\n",
    "年齢に関して見ると、かなりバラバラの数値です。  \n",
    "そのまま学習したところで、同じ年齢でなければ正しい判定が出てこない可能性があります。\n",
    "\n",
    "そこで、一定の年齢範囲の単位でグループ化してしまいます。\n",
    "\n",
    "前述のグラフを見る限り\n",
    "\n",
    "* 5 才以下\n",
    "* 6 - 15才\n",
    "* 16 - 30才\n",
    "* 31-60才\n",
    "* それ以上\n",
    "\n",
    "でクラス分類した方が良さそうな感じですね。  \n",
    "このついでといってしまうとあれですが、欠損は別のラベルを振ってしまいます。"
   ]
  },
  {
   "cell_type": "code",
   "execution_count": null,
   "metadata": {},
   "outputs": [],
   "source": [
    "def class_with_age(age):\n",
    "    if age < 5:\n",
    "        return 0\n",
    "    elif age < 16:\n",
    "        return 1\n",
    "    elif age < 30:\n",
    "        return 2\n",
    "    elif age < 60:\n",
    "        return 3\n",
    "    elif age != None:\n",
    "        return 4\n",
    "    else:\n",
    "        return 5\n",
    "\n",
    "train_df['Age'] = train_df['Age'].apply(class_with_age)\n",
    "test_df['Age'] = test_df['Age'].apply(class_with_age)\n",
    "train_df.head()"
   ]
  },
  {
   "cell_type": "markdown",
   "metadata": {},
   "source": [
    "### 値の数字化\n",
    "\n",
    "次に、数字でない物を数字に変換しましょう。  \n",
    "これは機械学習のモデルが文字列をどう扱っていいか不明になるためです。"
   ]
  },
  {
   "cell_type": "code",
   "execution_count": null,
   "metadata": {},
   "outputs": [],
   "source": [
    "def emverked_to_num(em):\n",
    "    if em == 'S':\n",
    "        return 0\n",
    "    elif em == 'C':\n",
    "        return 1\n",
    "    elif em == 'Q':\n",
    "        return 2\n",
    "    else:\n",
    "        return 1  # null のものが該当(test 側は null ではない)\n",
    "\n",
    "train_df['EmbarkedNm'] = train_df['Embarked'].apply(emverked_to_num)\n",
    "test_df['EmbarkedNm'] = test_df['Embarked'].apply(emverked_to_num)\n",
    "\n",
    "train_df = train_df.drop(['Embarked'], axis=1)\n",
    "test_df = test_df.drop(['Embarked'], axis=1)\n",
    "\n",
    "train_df.head()"
   ]
  },
  {
   "cell_type": "code",
   "execution_count": null,
   "metadata": {},
   "outputs": [],
   "source": [
    "train_df['Sex'] = train_df['Sex'].map({'female':0, 'male':1})\n",
    "test_df['Sex'] = test_df['Sex'].map({'female':0, 'male':1})\n",
    "train_df.head()"
   ]
  },
  {
   "cell_type": "markdown",
   "metadata": {},
   "source": [
    "### 新しい属性のデータ列を作成する\n",
    "\n",
    "複数のデータ列を組み合わせた列を作成することで、何らかの有意な結果が得られる場合があります。"
   ]
  },
  {
   "cell_type": "code",
   "execution_count": null,
   "metadata": {},
   "outputs": [],
   "source": [
    "combine = [train_df, test_df]\n",
    "\n",
    "# 家族サイズ（自分含む）\n",
    "for dataset in combine:\n",
    "    dataset['FamilySize'] = dataset['SibSp'] + dataset['Parch'] + 1\n",
    "\n",
    "train_df[['FamilySize', 'Survived']]\\\n",
    "    .groupby(['FamilySize'], as_index=False)\\\n",
    "    .mean()\\\n",
    "    .sort_values(by='Survived', ascending=False)"
   ]
  },
  {
   "cell_type": "code",
   "execution_count": null,
   "metadata": {},
   "outputs": [],
   "source": [
    "# 独り身かどうか\n",
    "for dataset in combine:\n",
    "    dataset['IsAlone'] = 0\n",
    "    dataset.loc[dataset['FamilySize'] == 1, 'IsAlone'] = 1\n",
    "\n",
    "train_df[['IsAlone', 'Survived']]\\\n",
    "    .groupby(['IsAlone'], as_index=False)\\\n",
    "    .mean()\\\n",
    "    .sort_values(by='Survived', ascending=False)"
   ]
  },
  {
   "cell_type": "markdown",
   "metadata": {},
   "source": [
    "## 学習モデルの作成\n",
    "\n",
    "本当ならここでこの学習データに対して複数の学習モデルを適用し、数値の良い物を利用するのですが、今回は面倒になってしまったので、RandomForest でお茶を濁します（苦笑）。"
   ]
  },
  {
   "cell_type": "code",
   "execution_count": null,
   "metadata": {},
   "outputs": [],
   "source": [
    "from sklearn.ensemble import RandomForestClassifier\n",
    "\n",
    "X_train = train_df.drop(\"Survived\", axis=1)\n",
    "Y_train = train_df[\"Survived\"]\n",
    "X_test  = test_df.drop(\"PassengerId\", axis=1).copy()\n",
    "\n",
    "X_train.shape, Y_train.shape, X_test.shape"
   ]
  },
  {
   "cell_type": "code",
   "execution_count": null,
   "metadata": {},
   "outputs": [],
   "source": [
    "random_forest = RandomForestClassifier(n_estimators=100)\n",
    "random_forest.fit(X_train, Y_train)\n",
    "Y_pred = random_forest.predict(X_test)\n",
    "random_forest.score(X_train, Y_train)\n",
    "acc_random_forest = round(random_forest.score(X_train, Y_train) * 100, 2)\n",
    "acc_random_forest"
   ]
  },
  {
   "cell_type": "markdown",
   "metadata": {},
   "source": [
    "90% 出ましたね…もう少し上がればいいのですが（汗\n",
    "\n",
    "## 問題を解いてみる\n",
    "\n",
    "という事で、こうしてできた学習機に実際に回答させてみます。"
   ]
  },
  {
   "cell_type": "code",
   "execution_count": null,
   "metadata": {},
   "outputs": [],
   "source": [
    "submission = pd.DataFrame({\n",
    "        \"PassengerId\": test_df[\"PassengerId\"],\n",
    "        \"Survived\": Y_pred\n",
    "    })\n",
    "submission.to_csv('./submission.csv', index=False)"
   ]
  },
  {
   "cell_type": "markdown",
   "metadata": {},
   "source": [
    "そしてこれを Kaggle にアップロードします。\n",
    "\n",
    "ちなみに、Kaggle 上に乗っているチュートリアル、`Titanic Data Science Solutions` の方が精度はいいです（苦笑"
   ]
  },
  {
   "cell_type": "code",
   "execution_count": null,
   "metadata": {},
   "outputs": [],
   "source": []
  }
 ],
 "metadata": {
  "kernelspec": {
   "display_name": "Python 3",
   "language": "python",
   "name": "python3"
  },
  "language_info": {
   "codemirror_mode": {
    "name": "ipython",
    "version": 3
   },
   "file_extension": ".py",
   "mimetype": "text/x-python",
   "name": "python",
   "nbconvert_exporter": "python",
   "pygments_lexer": "ipython3",
   "version": "3.7.4"
  }
 },
 "nbformat": 4,
 "nbformat_minor": 2
}
